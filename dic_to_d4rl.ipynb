{
 "cells": [
  {
   "cell_type": "code",
   "execution_count": 1,
   "metadata": {},
   "outputs": [],
   "source": [
    "import os\n",
    "import pickle as pkl\n",
    "import h5py\n",
    "import numpy as np"
   ]
  },
  {
   "cell_type": "code",
   "execution_count": 2,
   "metadata": {},
   "outputs": [],
   "source": [
    "def convert_pkl_folder_to_d4rl(input_folder, output_folder):\n",
    "    try:\n",
    "        # Check if input folder exists\n",
    "        if not os.path.exists(input_folder):\n",
    "            print(f\"Input folder '{input_folder}' does not exist.\")\n",
    "            return\n",
    "\n",
    "        # Create the output folder if it doesn't exist\n",
    "        os.makedirs(output_folder, exist_ok=True)\n",
    "\n",
    "        # List all .pkl files in the input folder\n",
    "        pkl_files = [f for f in os.listdir(input_folder) if f.endswith(\".pkl\")]\n",
    "        if not pkl_files:\n",
    "            print(f\"No .pkl files found in {input_folder}.\")\n",
    "            return\n",
    "\n",
    "        for pkl_file in pkl_files:\n",
    "            input_pkl_path = os.path.join(input_folder, pkl_file)\n",
    "            output_h5_path = os.path.join(\n",
    "                output_folder, pkl_file.replace(\".pkl\", \".h5\")\n",
    "            )\n",
    "\n",
    "            # Load the .pkl file\n",
    "            with open(input_pkl_path, \"rb\") as file:\n",
    "                data = pkl.load(file)\n",
    "\n",
    "            # Ensure the data is a dictionary and contains the required keys\n",
    "            if not isinstance(data, dict):\n",
    "                print(\n",
    "                    f\"Skipping {input_pkl_path}, expected a dictionary but got {type(data)}\"\n",
    "                )\n",
    "                continue\n",
    "\n",
    "            required_keys = [\"observations\", \"actions\", \"rewards\", \"terminals\"]\n",
    "            for key in required_keys:\n",
    "                if key not in data:\n",
    "                    print(f\"Skipping {input_pkl_path}, missing required key: {key}\")\n",
    "                    continue\n",
    "\n",
    "            # Create the HDF5 file for D4RL format\n",
    "            with h5py.File(output_h5_path, \"w\") as f:\n",
    "                # Store observations, actions, rewards, and terminals\n",
    "                f.create_dataset(\"observations\", data=np.array(data[\"observations\"]))\n",
    "                f.create_dataset(\"actions\", data=np.array(data[\"actions\"]))\n",
    "                f.create_dataset(\"rewards\", data=np.array(data[\"rewards\"]))\n",
    "                f.create_dataset(\"terminals\", data=np.array(data[\"terminals\"]))\n",
    "\n",
    "                # Add additional metadata if needed (D4RL uses 'infos' for additional information)\n",
    "                if \"infos\" in data:\n",
    "                    f.create_dataset(\"infos\", data=np.array(data[\"infos\"]))\n",
    "\n",
    "                # Optionally, store episode lengths (D4RL also uses 'episode_lengths' for the lengths of episodes)\n",
    "                if \"episode_lengths\" in data:\n",
    "                    f.create_dataset(\n",
    "                        \"episode_lengths\", data=np.array(data[\"episode_lengths\"])\n",
    "                    )\n",
    "\n",
    "            print(\n",
    "                f\"Converted {input_pkl_path} to D4RL format and saved as {output_h5_path}\"\n",
    "            )\n",
    "\n",
    "    except Exception as e:\n",
    "        print(f\"Error during conversion: {e}\")"
   ]
  },
  {
   "cell_type": "code",
   "execution_count": null,
   "metadata": {},
   "outputs": [],
   "source": [
    "input_folder = \"Data\"  # Folder containing .pkl files\n",
    "output_folder = \"Training\"  # Folder to save D4RL-compatible .h5 files\n",
    "convert_pkl_folder_to_d4rl(input_folder, output_folder)"
   ]
  }
 ],
 "metadata": {
  "kernelspec": {
   "display_name": "data",
   "language": "python",
   "name": "python3"
  },
  "language_info": {
   "codemirror_mode": {
    "name": "ipython",
    "version": 3
   },
   "file_extension": ".py",
   "mimetype": "text/x-python",
   "name": "python",
   "nbconvert_exporter": "python",
   "pygments_lexer": "ipython3",
   "version": "3.10.14"
  }
 },
 "nbformat": 4,
 "nbformat_minor": 2
}
